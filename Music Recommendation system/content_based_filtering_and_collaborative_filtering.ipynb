{
  "nbformat": 4,
  "nbformat_minor": 0,
  "metadata": {
    "colab": {
      "provenance": [],
      "gpuType": "T4"
    },
    "kernelspec": {
      "name": "python3",
      "display_name": "Python 3"
    },
    "language_info": {
      "name": "python"
    },
    "accelerator": "GPU"
  },
  "cells": [
    {
      "cell_type": "code",
      "execution_count": 73,
      "metadata": {
        "colab": {
          "base_uri": "https://localhost:8080/"
        },
        "id": "qlBu9mN5_mEX",
        "outputId": "17dfac48-7aa8-48dc-a7a3-dde78af47328"
      },
      "outputs": [
        {
          "output_type": "stream",
          "name": "stdout",
          "text": [
            "Drive already mounted at /content/drive; to attempt to forcibly remount, call drive.mount(\"/content/drive\", force_remount=True).\n"
          ]
        }
      ],
      "source": [
        "from google.colab import drive\n",
        "drive.mount('/content/drive')"
      ]
    },
    {
      "cell_type": "code",
      "source": [
        "import pandas as pd\n",
        "import numpy as np\n",
        "from math import sqrt\n",
        "# Load the music dataset\n",
        "music_dataset = pd.read_csv('/content/drive/MyDrive/dataset/tcc_ceds_music.csv')"
      ],
      "metadata": {
        "id": "xw5TopQKUg5x"
      },
      "execution_count": 74,
      "outputs": []
    },
    {
      "cell_type": "code",
      "source": [
        "\n",
        "print(\"\\n\\n==================Music==========================\")\n",
        "music_dataset = pd.DataFrame(music_dataset)\n",
        "print(music_dataset)\n",
        "\n",
        "# Process genres for music\n",
        "music_dataset['genre'] = music_dataset.genre.str.split('|')\n",
        "music_types = music_dataset.copy()\n",
        "\n",
        "# Loop to put 1's in the column that match the genre\n",
        "for index, row in music_dataset.iterrows():\n",
        "    for genre in row['genre']:\n",
        "        music_types.at[index, genre] = 1\n",
        "\n",
        "# Filling in the NaN values with 0 => Shows the song doesn't have that column's genre\n",
        "music_types = music_types.fillna(0)\n",
        "print(\"==================Top 10 Genres==========================\")\n",
        "print(music_types.head(10))\n",
        "\n",
        "favt_music = []\n",
        "while True:\n",
        "    yes = input(\"Want to add more favorite songs? (y/n): \")\n",
        "    if yes.lower() == 'y':\n",
        "        user_track_name = input(\"Enter track name: \")\n",
        "        user_rating = float(input(\"Enter rating: \"))\n",
        "        dic = {\"track_name\": user_track_name, \"rating\": user_rating}\n",
        "        favt_music.append(dic)\n",
        "    else:\n",
        "        break\n",
        "\n",
        "\n"
      ],
      "metadata": {
        "colab": {
          "base_uri": "https://localhost:8080/"
        },
        "id": "5V_mjHdtWGNX",
        "outputId": "0f9641d7-d616-4276-ea1c-18519130cd39"
      },
      "execution_count": 75,
      "outputs": [
        {
          "name": "stdout",
          "output_type": "stream",
          "text": [
            "\n",
            "\n",
            "==================Music==========================\n",
            "       song_id           artist_name                     track_name  \\\n",
            "0            0                mukesh           mohabbat bhi jhoothi   \n",
            "1            4         frankie laine                      i believe   \n",
            "2            6           johnnie ray                            cry   \n",
            "3           10           pérez prado                       patricia   \n",
            "4           12  giorgos papadopoulos             apopse eida oneiro   \n",
            "...        ...                   ...                            ...   \n",
            "28367    82447               mack 10                10 million ways   \n",
            "28368    82448                m.o.p.  ante up (robbin hoodz theory)   \n",
            "28369    82449                  nine                  whutcha want?   \n",
            "28370    82450            will smith                         switch   \n",
            "28371    82451                 jeezy                         r.i.p.   \n",
            "\n",
            "       Unnamed: 3  release_date    genre  \\\n",
            "0             NaN          1950      pop   \n",
            "1             NaN          1950      pop   \n",
            "2             NaN          1950      pop   \n",
            "3             NaN          1950      pop   \n",
            "4             NaN          1950      pop   \n",
            "...           ...           ...      ...   \n",
            "28367         NaN          2019  hip hop   \n",
            "28368         NaN          2019  hip hop   \n",
            "28369         NaN          2019  hip hop   \n",
            "28370         NaN          2019  hip hop   \n",
            "28371         NaN          2019  hip hop   \n",
            "\n",
            "                                                  lyrics  len    dating  \\\n",
            "0      hold time feel break feel untrue convince spea...   95  0.000598   \n",
            "1      believe drop rain fall grow believe darkest ni...   51  0.035537   \n",
            "2      sweetheart send letter goodbye secret feel bet...   24  0.002770   \n",
            "3      kiss lips want stroll charm mambo chacha merin...   54  0.048249   \n",
            "4      till darling till matter know till dream live ...   48  0.001350   \n",
            "...                                                  ...  ...       ...   \n",
            "28367  cause fuck leave scar tick tock clock come kno...   78  0.001350   \n",
            "28368  minks things chain ring braclets yap fame come...   67  0.001284   \n",
            "28369  get ban get ban stick crack relax plan attack ...   77  0.001504   \n",
            "28370  check check yeah yeah hear thing call switch g...   67  0.001196   \n",
            "28371  remix killer alive remix thriller trap bitch s...   83  0.001012   \n",
            "\n",
            "       violence  ...   sadness  feelings  danceability  loudness  \\\n",
            "0      0.063746  ...  0.380299  0.117175      0.357739  0.454119   \n",
            "1      0.096777  ...  0.001284  0.001284      0.331745  0.647540   \n",
            "2      0.002770  ...  0.002770  0.225422      0.456298  0.585288   \n",
            "3      0.001548  ...  0.225889  0.001548      0.686992  0.744404   \n",
            "4      0.001350  ...  0.068800  0.001350      0.291671  0.646489   \n",
            "...         ...  ...       ...       ...           ...       ...   \n",
            "28367  0.001350  ...  0.065664  0.001350      0.889527  0.759711   \n",
            "28368  0.001284  ...  0.001284  0.001284      0.662082  0.789580   \n",
            "28369  0.154302  ...  0.001504  0.001504      0.663165  0.726970   \n",
            "28370  0.001196  ...  0.001196  0.001196      0.883028  0.786888   \n",
            "28371  0.075202  ...  0.001012  0.033995      0.828875  0.674794   \n",
            "\n",
            "       acousticness  instrumentalness   valence    energy       topic  \\\n",
            "0          0.997992          0.901822  0.339448  0.137110     sadness   \n",
            "1          0.954819          0.000002  0.325021  0.263240  world/life   \n",
            "2          0.840361          0.000000  0.351814  0.139112       music   \n",
            "3          0.083935          0.199393  0.775350  0.743736    romantic   \n",
            "4          0.975904          0.000246  0.597073  0.394375    romantic   \n",
            "...             ...               ...       ...       ...         ...   \n",
            "28367      0.062549          0.000000  0.751649  0.695686     obscene   \n",
            "28368      0.004607          0.000002  0.922712  0.797791     obscene   \n",
            "28369      0.104417          0.000001  0.838211  0.767761     obscene   \n",
            "28370      0.007027          0.000503  0.508450  0.885882     obscene   \n",
            "28371      0.015862          0.000000  0.475474  0.492477     obscene   \n",
            "\n",
            "            age  \n",
            "0      1.000000  \n",
            "1      1.000000  \n",
            "2      1.000000  \n",
            "3      1.000000  \n",
            "4      1.000000  \n",
            "...         ...  \n",
            "28367  0.014286  \n",
            "28368  0.014286  \n",
            "28369  0.014286  \n",
            "28370  0.014286  \n",
            "28371  0.014286  \n",
            "\n",
            "[28372 rows x 32 columns]\n",
            "==================Top 10 Genres==========================\n",
            "   song_id           artist_name  \\\n",
            "0        0                mukesh   \n",
            "1        4         frankie laine   \n",
            "2        6           johnnie ray   \n",
            "3       10           pérez prado   \n",
            "4       12  giorgos papadopoulos   \n",
            "5       14            perry como   \n",
            "6       15             freestyle   \n",
            "7       17         johnny mathis   \n",
            "8       20   stélios kazantzídis   \n",
            "9       23   stélios kazantzídis   \n",
            "\n",
            "                                          track_name  Unnamed: 3  \\\n",
            "0                               mohabbat bhi jhoothi         0.0   \n",
            "1                                          i believe         0.0   \n",
            "2                                                cry         0.0   \n",
            "3                                           patricia         0.0   \n",
            "4                                 apopse eida oneiro         0.0   \n",
            "5  round and round (with mitchell ayres and his o...         0.0   \n",
            "6                         opm medley: when i met you         0.0   \n",
            "7                             it's not for me to say         0.0   \n",
            "8                           klapse me mana klapse me         0.0   \n",
            "9                                  finito la mouzika         0.0   \n",
            "\n",
            "   release_date  genre                                             lyrics  \\\n",
            "0          1950  [pop]  hold time feel break feel untrue convince spea...   \n",
            "1          1950  [pop]  believe drop rain fall grow believe darkest ni...   \n",
            "2          1950  [pop]  sweetheart send letter goodbye secret feel bet...   \n",
            "3          1950  [pop]  kiss lips want stroll charm mambo chacha merin...   \n",
            "4          1950  [pop]  till darling till matter know till dream live ...   \n",
            "5          1950  [pop]  convoy light dead ahead merchantmen trump dies...   \n",
            "6          1950  [pop]  piece mindin world knowin life come bring give...   \n",
            "7          1950  [pop]  care moment hold fast press lips dream heaven ...   \n",
            "8          1950  [pop]  lonely night surround power read mind hour nig...   \n",
            "9          1950  [pop]  tear heart seat stay awhile tear heart game st...   \n",
            "\n",
            "   len    dating  violence  ...    energy       topic  age  pop  country  \\\n",
            "0   95  0.000598  0.063746  ...  0.137110     sadness  1.0  1.0      0.0   \n",
            "1   51  0.035537  0.096777  ...  0.263240  world/life  1.0  1.0      0.0   \n",
            "2   24  0.002770  0.002770  ...  0.139112       music  1.0  1.0      0.0   \n",
            "3   54  0.048249  0.001548  ...  0.743736    romantic  1.0  1.0      0.0   \n",
            "4   48  0.001350  0.001350  ...  0.394375    romantic  1.0  1.0      0.0   \n",
            "5   98  0.001053  0.420685  ...  0.549535    violence  1.0  1.0      0.0   \n",
            "6  179  0.000483  0.000483  ...  0.486470  world/life  1.0  1.0      0.0   \n",
            "7   21  0.002506  0.002506  ...  0.192167  world/life  1.0  1.0      0.0   \n",
            "8   30  0.083537  0.002024  ...  0.400382    romantic  1.0  1.0      0.0   \n",
            "9   61  0.001120  0.102548  ...  0.413395     sadness  1.0  1.0      0.0   \n",
            "\n",
            "   blues  jazz  reggae  rock  hip hop  \n",
            "0    0.0   0.0     0.0   0.0      0.0  \n",
            "1    0.0   0.0     0.0   0.0      0.0  \n",
            "2    0.0   0.0     0.0   0.0      0.0  \n",
            "3    0.0   0.0     0.0   0.0      0.0  \n",
            "4    0.0   0.0     0.0   0.0      0.0  \n",
            "5    0.0   0.0     0.0   0.0      0.0  \n",
            "6    0.0   0.0     0.0   0.0      0.0  \n",
            "7    0.0   0.0     0.0   0.0      0.0  \n",
            "8    0.0   0.0     0.0   0.0      0.0  \n",
            "9    0.0   0.0     0.0   0.0      0.0  \n",
            "\n",
            "[10 rows x 39 columns]\n",
            "Want to add more favorite songs? (y/n): y\n",
            "Enter track name: dark eyes\n",
            "Enter rating: 5\n",
            "Want to add more favorite songs? (y/n): y\n",
            "Enter track name: blue skies\n",
            "Enter rating: 4\n",
            "Want to add more favorite songs? (y/n): n\n"
          ]
        }
      ]
    },
    {
      "cell_type": "code",
      "source": [
        "print(\"==================Music From User==========================\")\n",
        "# Creating a DataFrame from user's favorite songs\n",
        "music_names = pd.DataFrame(favt_music)\n",
        "\n",
        "# Filtering out the songs by track name\n",
        "song_matches = music_dataset[music_dataset['track_name'].isin(music_names['track_name'].tolist())]\n",
        "\n",
        "# Then merging it to get the trackId\n",
        "music_names = pd.merge(song_matches, music_names, on='track_name')\n",
        "\n",
        "# Do not need genres from the user input data, so we drop that column\n",
        "music_names = music_names.drop('genre', axis=1)\n",
        "\n",
        "# Filtering out the songs from the input\n",
        "filtering_music = music_types[music_types['track_name'].isin(music_names['track_name'].tolist())]\n",
        "print(filtering_music[['track_name', 'genre', 'release_date']])"
      ],
      "metadata": {
        "colab": {
          "base_uri": "https://localhost:8080/"
        },
        "id": "3XqGqhP8FpOX",
        "outputId": "a49a3916-65de-40d8-d754-74bfc997fa7c"
      },
      "execution_count": 76,
      "outputs": [
        {
          "output_type": "stream",
          "name": "stdout",
          "text": [
            "==================Music From User==========================\n",
            "       track_name      genre  release_date\n",
            "16     blue skies      [pop]          1951\n",
            "17      dark eyes      [pop]          1951\n",
            "530    blue skies      [pop]          1962\n",
            "5789   blue skies      [pop]          2009\n",
            "8764   blue skies  [country]          1975\n",
            "8783   blue skies  [country]          1975\n",
            "12806  blue skies    [blues]          1959\n",
            "17081  blue skies    [blues]          2019\n",
            "17903  blue skies     [jazz]          1970\n",
            "18889  blue skies     [jazz]          1988\n",
            "20078  blue skies     [jazz]          2008\n",
            "20767  blue skies     [jazz]          2017\n"
          ]
        }
      ]
    },
    {
      "cell_type": "code",
      "source": [
        "# Resetting the index to avoid future issues\n",
        "filtering_music = filtering_music.reset_index(drop=True)\n",
        "\n",
        "# Dropping unnecessary columns to calculate similarity\n",
        "genre_list = filtering_music.drop('track_name',1).drop('genre', 1).drop('release_date', 1)\n",
        "\n",
        "print(\"==================Music Categories==========================\")\n",
        "print(genre_list)\n"
      ],
      "metadata": {
        "colab": {
          "base_uri": "https://localhost:8080/"
        },
        "id": "spqlGNFGFhgL",
        "outputId": "5519a021-697c-4b88-fa3a-ad7d81c3790f"
      },
      "execution_count": 77,
      "outputs": [
        {
          "output_type": "stream",
          "name": "stdout",
          "text": [
            "==================Music Categories==========================\n",
            "    song_id         artist_name  Unnamed: 3  \\\n",
            "0        40            les paul         0.0   \n",
            "1        44            les paul         0.0   \n",
            "2      1388         bobby darin         0.0   \n",
            "3     16664  noah and the whale         0.0   \n",
            "4     25279          jim reeves         0.0   \n",
            "5     25344       willie nelson         0.0   \n",
            "6     40648     ella fitzgerald         0.0   \n",
            "7     54280             santana         0.0   \n",
            "8     56246    django reinhardt         0.0   \n",
            "9     58628  harry connick, jr.         0.0   \n",
            "10    61266        susie arioli         0.0   \n",
            "11    62850         diana krall         0.0   \n",
            "\n",
            "                                               lyrics  len    dating  \\\n",
            "0   blue sky smile blue sky bluebirds sing song bl...   43  0.001385   \n",
            "1   light bright dark shit backstage alright cause...  182  0.000358   \n",
            "2   blue sky smilin nothin blue sky bluebirds sing...   52  0.001350   \n",
            "3   song break heart song cause blue sky come know...   43  0.071826   \n",
            "4   blue sky smilin nothin blue sky bluebirds sing...   53  0.001350   \n",
            "5   blue sky smile blue sky blue bird sing song bl...   54  0.000993   \n",
            "6   blue sky smile blue sky bluebirds sing song bl...   36  0.001698   \n",
            "7   lose feet grind color burn loneliness ocean aw...   96  0.000605   \n",
            "8   smoke ring blow night circle blue white pictur...   51  0.001196   \n",
            "9   blue sky smilin nothin blue sky bluebirds sing...   40  0.001645   \n",
            "10  blue sky smile blue sky bluebrids sing song bl...   35  0.001754   \n",
            "11  shin bright things go right notice days hurry ...   46  0.001422   \n",
            "\n",
            "    violence  world/life  night/time  shake the audience  ...    energy  \\\n",
            "0   0.001385    0.001385    0.065507            0.001385  ...  0.284262   \n",
            "1   0.378119    0.030934    0.000358            0.025127  ...  0.291269   \n",
            "2   0.001350    0.001350    0.055795            0.001350  ...  0.290268   \n",
            "3   0.001196    0.001196    0.001196            0.025543  ...  0.636625   \n",
            "4   0.001350    0.001350    0.055795            0.001350  ...  0.218194   \n",
            "5   0.000993    0.000993    0.020035            0.000993  ...  0.242219   \n",
            "6   0.001698    0.113561    0.083102            0.001698  ...  0.285263   \n",
            "7   0.052865    0.000605    0.000605            0.000605  ...  0.591579   \n",
            "8   0.001196    0.062366    0.001196            0.001196  ...  0.454437   \n",
            "9   0.001645    0.092250    0.058894            0.001645  ...  0.138111   \n",
            "10  0.001754    0.119816    0.069099            0.001754  ...  0.327306   \n",
            "11  0.001422    0.001422    0.096247            0.001422  ...  0.264241   \n",
            "\n",
            "       topic       age  pop  country  blues  jazz  reggae  rock  hip hop  \n",
            "0      music  0.985714  1.0      0.0    0.0   0.0     0.0   0.0      0.0  \n",
            "1   violence  0.985714  1.0      0.0    0.0   0.0     0.0   0.0      0.0  \n",
            "2      music  0.828571  1.0      0.0    0.0   0.0     0.0   0.0      0.0  \n",
            "3      music  0.157143  1.0      0.0    0.0   0.0     0.0   0.0      0.0  \n",
            "4      music  0.642857  0.0      1.0    0.0   0.0     0.0   0.0      0.0  \n",
            "5      music  0.642857  0.0      1.0    0.0   0.0     0.0   0.0      0.0  \n",
            "6      music  0.871429  0.0      0.0    1.0   0.0     0.0   0.0      0.0  \n",
            "7      music  0.014286  0.0      0.0    1.0   0.0     0.0   0.0      0.0  \n",
            "8      music  0.714286  0.0      0.0    0.0   1.0     0.0   0.0      0.0  \n",
            "9      music  0.457143  0.0      0.0    0.0   1.0     0.0   0.0      0.0  \n",
            "10     music  0.171429  0.0      0.0    0.0   1.0     0.0   0.0      0.0  \n",
            "11     music  0.042857  0.0      0.0    0.0   1.0     0.0   0.0      0.0  \n",
            "\n",
            "[12 rows x 36 columns]\n"
          ]
        },
        {
          "output_type": "stream",
          "name": "stderr",
          "text": [
            "<ipython-input-77-cc0d06c2cd2b>:5: FutureWarning: In a future version of pandas all arguments of DataFrame.drop except for the argument 'labels' will be keyword-only.\n",
            "  genre_list = filtering_music.drop('track_name',1).drop('genre', 1).drop('release_date', 1)\n",
            "<ipython-input-77-cc0d06c2cd2b>:5: FutureWarning: In a future version of pandas all arguments of DataFrame.drop except for the argument 'labels' will be keyword-only.\n",
            "  genre_list = filtering_music.drop('track_name',1).drop('genre', 1).drop('release_date', 1)\n",
            "<ipython-input-77-cc0d06c2cd2b>:5: FutureWarning: In a future version of pandas all arguments of DataFrame.drop except for the argument 'labels' will be keyword-only.\n",
            "  genre_list = filtering_music.drop('track_name',1).drop('genre', 1).drop('release_date', 1)\n"
          ]
        }
      ]
    },
    {
      "cell_type": "code",
      "source": [
        "print(\"==================User Similar Ratings==========================\")\n",
        "# Exclude non-numeric columns before conversion\n",
        "numeric_columns = genre_list.select_dtypes(include=[np.number]).columns\n",
        "genre_list[numeric_columns] = genre_list[numeric_columns].astype(float)\n",
        "\n",
        "# Calculate user interest\n",
        "user_interest = genre_list[numeric_columns].transpose().dot(music_names['rating']).reset_index()\n",
        "user_interest.columns = ['genre', 'rating']\n",
        "\n",
        "# Filter and display only the desired genres\n",
        "desired_genres = ['pop', 'country', 'blues', 'jazz', 'reggae', 'rock', 'hip hop']\n",
        "user_interest = user_interest[user_interest['genre'].isin(desired_genres)]\n",
        "\n",
        "print(user_interest)\n",
        "\n",
        "# Now let's get the genres of every song in our original dataframe\n",
        "music_types_list = music_types.set_index(music_types['song_id'])\n",
        "# Dropping the unnecessary information\n",
        "music_types_list = music_types_list.drop('track_name',1).drop('genre', 1).drop('release_date', 1)\n",
        "\n",
        "# A tuple of array dimensions that tells the number of rows and columns of a given DataFrame\n",
        "music_types_list.shape\n"
      ],
      "metadata": {
        "colab": {
          "base_uri": "https://localhost:8080/"
        },
        "id": "R_OaG0ubFLOe",
        "outputId": "63963b3a-b01b-41a9-c8ab-34c826802ddd"
      },
      "execution_count": 78,
      "outputs": [
        {
          "output_type": "stream",
          "name": "stdout",
          "text": [
            "==================User Similar Ratings==========================\n",
            "      genre  rating\n",
            "26      pop    16.0\n",
            "27  country     8.0\n",
            "28    blues     8.0\n",
            "29     jazz    17.0\n",
            "30   reggae     0.0\n",
            "31     rock     0.0\n",
            "32  hip hop     0.0\n"
          ]
        },
        {
          "output_type": "stream",
          "name": "stderr",
          "text": [
            "<ipython-input-78-7eb5dc20a9ce>:19: FutureWarning: In a future version of pandas all arguments of DataFrame.drop except for the argument 'labels' will be keyword-only.\n",
            "  music_types_list = music_types_list.drop('track_name',1).drop('genre', 1).drop('release_date', 1)\n",
            "<ipython-input-78-7eb5dc20a9ce>:19: FutureWarning: In a future version of pandas all arguments of DataFrame.drop except for the argument 'labels' will be keyword-only.\n",
            "  music_types_list = music_types_list.drop('track_name',1).drop('genre', 1).drop('release_date', 1)\n",
            "<ipython-input-78-7eb5dc20a9ce>:19: FutureWarning: In a future version of pandas all arguments of DataFrame.drop except for the argument 'labels' will be keyword-only.\n",
            "  music_types_list = music_types_list.drop('track_name',1).drop('genre', 1).drop('release_date', 1)\n"
          ]
        },
        {
          "output_type": "execute_result",
          "data": {
            "text/plain": [
              "(28372, 36)"
            ]
          },
          "metadata": {},
          "execution_count": 78
        }
      ]
    },
    {
      "cell_type": "code",
      "source": [
        "# Calculate user profile\n",
        "print(\"==================User Profile==========================\")\n",
        "# Get the genres of every track in the original dataframe\n",
        "music_types_list = music_types.set_index('song_id')\n",
        "# Drop unnecessary columns\n",
        "music_types_list = music_types_list.drop('track_name',1).drop('genre', 1).drop('release_date', 1)\n",
        "\n",
        "# Get the shape of the DataFrame\n",
        "shape = music_types_list.shape\n",
        "\n",
        "# print(\"Shape of music_types_list:\", shape)\n",
        "# Multiply the genres by the weights and then take the weighted average\n",
        "suggested_tracks = ((music_types_list * user_interest).sum(axis=1)) / (user_interest.sum())\n",
        "\n",
        "# Sort the recommendations in descending order\n",
        "suggested_tracks = suggested_tracks.sort_values(ascending=False)\n"
      ],
      "metadata": {
        "colab": {
          "base_uri": "https://localhost:8080/"
        },
        "id": "CJtvgEYRFECU",
        "outputId": "f3bc5b7b-914d-4389-bbdf-df04729ffbb4"
      },
      "execution_count": 79,
      "outputs": [
        {
          "output_type": "stream",
          "name": "stdout",
          "text": [
            "==================User Profile==========================\n"
          ]
        },
        {
          "output_type": "stream",
          "name": "stderr",
          "text": [
            "<ipython-input-79-f54002d46932>:6: FutureWarning: In a future version of pandas all arguments of DataFrame.drop except for the argument 'labels' will be keyword-only.\n",
            "  music_types_list = music_types_list.drop('track_name',1).drop('genre', 1).drop('release_date', 1)\n",
            "<ipython-input-79-f54002d46932>:6: FutureWarning: In a future version of pandas all arguments of DataFrame.drop except for the argument 'labels' will be keyword-only.\n",
            "  music_types_list = music_types_list.drop('track_name',1).drop('genre', 1).drop('release_date', 1)\n",
            "<ipython-input-79-f54002d46932>:6: FutureWarning: In a future version of pandas all arguments of DataFrame.drop except for the argument 'labels' will be keyword-only.\n",
            "  music_types_list = music_types_list.drop('track_name',1).drop('genre', 1).drop('release_date', 1)\n"
          ]
        }
      ]
    },
    {
      "cell_type": "code",
      "source": [
        "# Read the ratings dataset\n",
        "music_ratings = pd.read_csv('/content/drive/MyDrive/dataset/ratings.csv',chunksize=100000)\n",
        "\n",
        "lst = []\n",
        "for i in music_ratings:\n",
        "    lst.append(i)\n",
        "    break  # Retrieve only the first chunk\n",
        "\n",
        "music_ratings = pd.concat(lst)\n",
        "music_ratings = music_ratings.head(1000000)\n",
        "\n",
        "print(\"==================Ratings Data Set==========================\")\n",
        "print(music_ratings.head())\n"
      ],
      "metadata": {
        "colab": {
          "base_uri": "https://localhost:8080/"
        },
        "id": "10gIJojFEVZH",
        "outputId": "950d907b-8496-4047-bfcd-d8300c2cb77d"
      },
      "execution_count": 80,
      "outputs": [
        {
          "output_type": "stream",
          "name": "stdout",
          "text": [
            "==================Ratings Data Set==========================\n",
            "   user_id  song_id  rating\n",
            "0        1        0       3\n",
            "1        1        4       1\n",
            "2        1        6       2\n",
            "3        1       10       1\n",
            "4        1       12       3\n"
          ]
        }
      ]
    },
    {
      "cell_type": "code",
      "source": [
        "dataset = music_dataset.drop('genre', axis=1, errors='ignore')\n",
        "\n",
        "row_column = music_ratings[music_ratings['song_id'].isin(music_names['song_id'])]\n",
        "\n",
        "id_user_music_rating = row_column.groupby(['user_id'])\n",
        "# Sorting it so users with the most music in common with the input will have priority\n",
        "id_user_music_rating = sorted(id_user_music_rating, key=lambda x: len(x[1]), reverse=True)\n",
        "id_user_music_rating = id_user_music_rating[0:200]\n",
        "\n",
        "# Store the Pearson Correlation in a dictionary, where the key is the user ID and the value is the coefficient\n",
        "# CALCULATING PEARSON CORRELATION COEFFICIENT TO FIND THE SIMILARITY BETWEEN THE TWO USERS\n",
        "user_similarities_dict = {}"
      ],
      "metadata": {
        "colab": {
          "base_uri": "https://localhost:8080/"
        },
        "id": "Xas7OgJ2Ee5Y",
        "outputId": "93264cd3-f605-46f7-be68-2026cc1c664a"
      },
      "execution_count": 81,
      "outputs": [
        {
          "output_type": "stream",
          "name": "stderr",
          "text": [
            "<ipython-input-81-08687dadbde3>:7: FutureWarning: In a future version of pandas, a length 1 tuple will be returned when iterating over a groupby with a grouper equal to a list of length 1. Don't supply a list with a single grouper to avoid this warning.\n",
            "  id_user_music_rating = sorted(id_user_music_rating, key=lambda x: len(x[1]), reverse=True)\n"
          ]
        }
      ]
    },
    {
      "cell_type": "code",
      "source": [
        "# For every user group in our subset\n",
        "for key, value in id_user_music_rating:\n",
        "    # Let's start by sorting the input and current user value so the values aren't mixed up later on\n",
        "    value = value.sort_values(by='song_id')\n",
        "    music_names = music_names.sort_values(by='song_id')\n",
        "    # Get the N for the formula\n",
        "    # nRatings = len(value)\n",
        "    # Get the review scores for the music that they both have in common\n",
        "    music_scores = music_names[music_names['song_id'].isin(value['song_id'].tolist())]\n",
        "    # And then store them in a temporary buffer variable in a list format to facilitate future calculations\n",
        "    scoring_list = music_scores['rating'].tolist()\n",
        "    # Let's also put the current user group reviews in a list format\n",
        "    rating_list = value['rating'].tolist()\n",
        "    # Now let's calculate the Pearson correlation between two users, so called, x and y\n",
        "    xi_minus_x = sum([i ** 2 for i in scoring_list]) - pow(sum(scoring_list), 2) / float(len(value))\n",
        "    yi_minus_y = sum([i ** 2 for i in rating_list]) - pow(sum(rating_list), 2) / float(len(value))\n",
        "    x_y_product = sum(i * j for i, j in zip(scoring_list, rating_list)) - sum(scoring_list) * sum(rating_list) / float(\n",
        "        len(value))\n",
        "\n",
        "    # If the denominator is different than zero, then divide, else, 0 correlation.\n",
        "    if xi_minus_x != 0 and yi_minus_y != 0:\n",
        "        user_similarities_dict[key] = x_y_product / sqrt(xi_minus_x * yi_minus_y)\n",
        "    else:\n",
        "        user_similarities_dict[key] = 0\n",
        "\n",
        "user_similarities_dict.items()\n",
        "Pearson_Correlation = pd.DataFrame.from_dict(user_similarities_dict, orient='index')\n",
        "Pearson_Correlation.columns = ['similarityIndex']\n",
        "Pearson_Correlation['user_id'] = Pearson_Correlation.index\n",
        "Pearson_Correlation.index = range(len(Pearson_Correlation))\n",
        "print()\n",
        "print()\n",
        "print(Pearson_Correlation)\n"
      ],
      "metadata": {
        "colab": {
          "base_uri": "https://localhost:8080/"
        },
        "id": "oYCp5X78Eom6",
        "outputId": "aa271223-c384-4376-b2c2-a95b4889f406"
      },
      "execution_count": 82,
      "outputs": [
        {
          "output_type": "stream",
          "name": "stdout",
          "text": [
            "\n",
            "\n",
            "   similarityIndex  user_id\n",
            "0              0.0     1200\n",
            "1              0.5        1\n",
            "2              0.0     1000\n",
            "3              0.0      880\n",
            "4              0.0     2034\n"
          ]
        }
      ]
    },
    {
      "cell_type": "code",
      "source": [
        "\n",
        "###########################################################################################################################################\n",
        "\n",
        "similarityindex_userid = Pearson_Correlation.sort_values(by='similarityIndex', ascending=False)[0:50]\n",
        "\n",
        "rows_columns = similarityindex_userid.merge(music_ratings, left_on='user_id', right_on='user_id', how='inner')\n",
        "\n",
        "# Multiplies the similarity by the user's ratings\n",
        "rows_columns['weightedRating'] = rows_columns['similarityIndex'] * rows_columns['rating']\n",
        "\n",
        "print(\"==================User Ratings==========================\")\n",
        "print(rows_columns.head())\n"
      ],
      "metadata": {
        "colab": {
          "base_uri": "https://localhost:8080/"
        },
        "id": "gBbY9DotEvu4",
        "outputId": "d3a0b2a2-741d-43f3-f5f6-8251c50430d7"
      },
      "execution_count": 83,
      "outputs": [
        {
          "output_type": "stream",
          "name": "stdout",
          "text": [
            "==================User Ratings==========================\n",
            "   similarityIndex  user_id  song_id  rating  weightedRating\n",
            "0              0.5        1        0       3             1.5\n",
            "1              0.5        1        4       1             0.5\n",
            "2              0.5        1        6       2             1.0\n",
            "3              0.5        1       10       1             0.5\n",
            "4              0.5        1       12       3             1.5\n"
          ]
        }
      ]
    },
    {
      "cell_type": "code",
      "source": [
        "total_user_ratings_rc = rows_columns.groupby('song_id').sum()[['similarityIndex','weightedRating']]\n",
        "total_user_ratings_rc.columns = ['sum_Index','sum_rating']\n",
        "print()\n",
        "print()\n",
        "print(total_user_ratings_rc)"
      ],
      "metadata": {
        "colab": {
          "base_uri": "https://localhost:8080/"
        },
        "id": "P4XxoXJ0A1h7",
        "outputId": "e99cdb80-8905-4c86-c0fc-d0d62e9dceb3"
      },
      "execution_count": 84,
      "outputs": [
        {
          "output_type": "stream",
          "name": "stdout",
          "text": [
            "\n",
            "\n",
            "         sum_Index  sum_rating\n",
            "song_id                       \n",
            "0              0.5         1.5\n",
            "4              0.5         0.5\n",
            "6              0.5         1.0\n",
            "10             0.5         0.5\n",
            "12             0.5         1.5\n",
            "...            ...         ...\n",
            "64729          0.0         0.0\n",
            "64731          0.0         0.0\n",
            "64732          0.0         0.0\n",
            "64734          0.0         0.0\n",
            "64738          0.0         0.0\n",
            "\n",
            "[17895 rows x 2 columns]\n"
          ]
        }
      ]
    },
    {
      "cell_type": "code",
      "source": [
        "\n",
        "###########################################################################################################################################\n",
        "#Creates an empty dataframe\n",
        "print(\"====================Weighted Average Recommendation Data Set===================\")\n",
        "recommendation_dataset = pd.DataFrame()\n",
        "#Now we take the weighted average\n",
        "recommendation_dataset['Weighted Average Recommendation Score'] = total_user_ratings_rc['sum_rating']/total_user_ratings_rc['sum_Index']\n",
        "recommendation_dataset['song_id'] = total_user_ratings_rc.index\n",
        "recommendation_dataset = recommendation_dataset.sort_values(by='Weighted Average Recommendation Score', ascending=False)\n",
        "print(recommendation_dataset)"
      ],
      "metadata": {
        "colab": {
          "base_uri": "https://localhost:8080/"
        },
        "id": "7LkNg-MlDD6N",
        "outputId": "cc32725d-7898-4a2a-b1ab-82c3817268bc"
      },
      "execution_count": 85,
      "outputs": [
        {
          "output_type": "stream",
          "name": "stdout",
          "text": [
            "====================Weighted Average Recommendation Data Set===================\n",
            "         Weighted Average Recommendation Score  song_id\n",
            "song_id                                                \n",
            "2592                                       5.0     2592\n",
            "712                                        5.0      712\n",
            "1688                                       5.0     1688\n",
            "1410                                       5.0     1410\n",
            "1064                                       5.0     1064\n",
            "...                                        ...      ...\n",
            "64729                                      NaN    64729\n",
            "64731                                      NaN    64731\n",
            "64732                                      NaN    64732\n",
            "64734                                      NaN    64734\n",
            "64738                                      NaN    64738\n",
            "\n",
            "[17895 rows x 2 columns]\n"
          ]
        }
      ]
    },
    {
      "cell_type": "code",
      "source": [
        "recommended_music=dataset.loc[dataset['song_id'].isin(recommendation_dataset.head(10)['song_id'].tolist())]\n",
        "print(\"====================User Selected songs===================\")\n",
        "print(music_names.head())\n",
        "print(\"\\n\\n==================Recommended songs According to User Input=========================\")\n",
        "print(recommended_music.loc[:,['track_name']].head(11))"
      ],
      "metadata": {
        "colab": {
          "base_uri": "https://localhost:8080/"
        },
        "id": "oUq-5jWjDkFU",
        "outputId": "99018b1e-d23d-4bd5-a40f-15ed72667519"
      },
      "execution_count": 86,
      "outputs": [
        {
          "output_type": "stream",
          "name": "stdout",
          "text": [
            "====================User Selected songs===================\n",
            "    song_id         artist_name  track_name  Unnamed: 3  release_date  \\\n",
            "0        40            les paul  blue skies         NaN          1951   \n",
            "11       44            les paul   dark eyes         NaN          1951   \n",
            "1      1388         bobby darin  blue skies         NaN          1962   \n",
            "2     16664  noah and the whale  blue skies         NaN          2009   \n",
            "3     25279          jim reeves  blue skies         NaN          1975   \n",
            "\n",
            "                                               lyrics  len    dating  \\\n",
            "0   blue sky smile blue sky bluebirds sing song bl...   43  0.001385   \n",
            "11  light bright dark shit backstage alright cause...  182  0.000358   \n",
            "1   blue sky smilin nothin blue sky bluebirds sing...   52  0.001350   \n",
            "2   song break heart song cause blue sky come know...   43  0.071826   \n",
            "3   blue sky smilin nothin blue sky bluebirds sing...   53  0.001350   \n",
            "\n",
            "    violence  world/life  ...  feelings  danceability  loudness  acousticness  \\\n",
            "0   0.001385    0.001385  ...  0.063931      0.635005  0.604877      0.991968   \n",
            "11  0.378119    0.030934  ...  0.043335      0.602513  0.577238      0.992972   \n",
            "1   0.001350    0.001350  ...  0.001350      0.410809  0.590057      0.751004   \n",
            "2   0.001196    0.001196  ...  0.040526      0.523448  0.711227      0.232931   \n",
            "3   0.001350    0.001350  ...  0.001350      0.389148  0.461708      0.952811   \n",
            "\n",
            "    instrumentalness   valence    energy     topic       age  rating  \n",
            "0           0.847166  0.462077  0.284262     music  0.985714     4.0  \n",
            "11          0.874494  0.609439  0.291269  violence  0.985714     5.0  \n",
            "1           0.000000  0.449711  0.290268     music  0.828571     4.0  \n",
            "2           0.074899  0.402308  0.636625     music  0.157143     4.0  \n",
            "3           0.485830  0.342539  0.218194     music  0.642857     4.0  \n",
            "\n",
            "[5 rows x 32 columns]\n",
            "\n",
            "\n",
            "==================Recommended songs According to User Input=========================\n",
            "                      track_name\n",
            "246       i'm just a boy in love\n",
            "273                mrs. robinson\n",
            "405                 return to me\n",
            "406   the song from moulin rouge\n",
            "537                       lonely\n",
            "638             cherry hill park\n",
            "964     lay down your weary tune\n",
            "1378                     duchess\n",
            "1478             big white cloud\n",
            "1479                 without you\n"
          ]
        }
      ]
    }
  ]
}